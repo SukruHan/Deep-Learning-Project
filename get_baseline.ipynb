{
  "nbformat": 4,
  "nbformat_minor": 0,
  "metadata": {
    "colab": {
      "name": "get_baseline.ipynb",
      "provenance": [],
      "collapsed_sections": []
    },
    "kernelspec": {
      "name": "python3",
      "display_name": "Python 3"
    },
    "accelerator": "GPU"
  },
  "cells": [
    {
      "cell_type": "code",
      "metadata": {
        "id": "CHNKlsvkN8vi"
      },
      "source": [
        "# install tape \n",
        "!pip install tape_proteins"
      ],
      "execution_count": null,
      "outputs": []
    },
    {
      "cell_type": "code",
      "metadata": {
        "id": "8vkwQXmWlNDZ"
      },
      "source": [
        "!mkdir ./data\n",
        "!wget http://s3.amazonaws.com/proteindata/data_pytorch/fluorescence.tar.gz\n",
        "!tar -xzf fluorescence.tar.gz -C ./data\n",
        "!rm fluorescence.tar.gz\n",
        "!wget http://s3.amazonaws.com/proteindata/data_pytorch/proteinnet.tar.gz\n",
        "!tar -xzf proteinnet.tar.gz -C ./data\n",
        "!rm proteinnet.tar.gz\n",
        "!wget http://s3.amazonaws.com/proteindata/data_pytorch/remote_homology.tar.gz\n",
        "!tar -xzf remote_homology.tar.gz -C ./data\n",
        "!rm remote_homology.tar.gz\n",
        "!wget http://s3.amazonaws.com/proteindata/data_pytorch/secondary_structure.tar.gz\n",
        "!tar -xzf secondary_structure.tar.gz -C ./data\n",
        "!rm secondary_structure.tar.gz\n",
        "!wget http://s3.amazonaws.com/proteindata/data_pytorch/stability.tar.gz\n",
        "!tar -xzf stability.tar.gz -C ./data\n",
        "!rm stability.tar.gz"
      ],
      "execution_count": null,
      "outputs": []
    },
    {
      "cell_type": "code",
      "metadata": {
        "id": "_gMcUlhvOG6h"
      },
      "source": [
        "# download tape datasets\n",
        "# !bash download_data.sh"
      ],
      "execution_count": null,
      "outputs": []
    },
    {
      "cell_type": "code",
      "metadata": {
        "id": "7p4JnFkqL3RD"
      },
      "source": [
        "# check all parameters for training the model\n",
        "# !tape-train --help"
      ],
      "execution_count": null,
      "outputs": []
    },
    {
      "cell_type": "code",
      "metadata": {
        "id": "RKOuDug7U1Qa"
      },
      "source": [
        "# train model\n",
        "!tape-train transformer stability --batch_size 150  --learning_rate 0.0005  --num_train_epochs 10 --warmup_steps 2 --gradient_accumulation_steps 50 \n",
        "!tape-train transformer secondary_structure --batch_size 150  --learning_rate 0.0005  --num_train_epochs 10 --warmup_steps 2 --gradient_accumulation_steps 50 \n",
        "!tape-train transformer contact_prediction --batch_size 150  --learning_rate 0.0005  --num_train_epochs 10 --warmup_steps 2 --gradient_accumulation_steps 50 \n",
        "!tape-train transformer remote_homology --batch_size 150  --learning_rate 0.0005  --num_train_epochs 10 --warmup_steps 2 --gradient_accumulation_steps 50 \n",
        "!tape-train transformer fluorescence --batch_size 150  --learning_rate 0.0005  --num_train_epochs 10 --warmup_steps 2 --gradient_accumulation_steps 50 "
      ],
      "execution_count": null,
      "outputs": []
    },
    {
      "cell_type": "code",
      "metadata": {
        "id": "zstMQdr_Mf7G"
      },
      "source": [
        "# evaluate model\n",
        "!tape-eval transformer stability /content/results/stability_transformer_20-11-16-11-06-50_650136 --metrics mse mae spearmanr \n",
        "!tape-eval transformer contact_prediction /content/results/stability_transformer_20-11-14-15-01-44_557387 --metrics accuracy\n",
        "!tape-eval transformer fluorescence /content/results/stability_transformer_20-11-14-15-01-44_557387 --metrics mse mae spearmanr "
      ],
      "execution_count": null,
      "outputs": []
    },
    {
      "cell_type": "code",
      "metadata": {
        "id": "bIIWBP-3SuKs"
      },
      "source": [
        "!tape-train resnet stability --batch_size 150  --learning_rate 0.0005  --num_train_epochs 10 --warmup_steps 2 --gradient_accumulation_steps 50 \n",
        "!tape-train resnet secondary_structure --batch_size 150  --learning_rate 0.0005  --num_train_epochs 10 --warmup_steps 2 --gradient_accumulation_steps 50 \n",
        "!tape-train resnet contact_prediction --batch_size 150  --learning_rate 0.0005  --num_train_epochs 10 --warmup_steps 2 --gradient_accumulation_steps 50 \n",
        "!tape-train resnet remote_homology --batch_size 150  --learning_rate 0.0005  --num_train_epochs 10 --warmup_steps 2 --gradient_accumulation_steps 50 \n",
        "!tape-train resnet fluorescence --batch_size 150  --learning_rate 0.0005  --num_train_epochs 10 --warmup_steps 2 --gradient_accumulation_steps 50 "
      ],
      "execution_count": null,
      "outputs": []
    },
    {
      "cell_type": "code",
      "metadata": {
        "id": "cVViZOjLSqSx"
      },
      "source": [
        "!tape-eval resnet stability /content/results/stability_resnet_20-11-14-15-16-47_075700 --metrics mse mae spearmanr \n",
        "!tape-eval resnet contact_prediction /content/results/stability_transformer_20-11-14-15-01-44_557387 --metrics accuracy\n",
        "!tape-eval resnet fluorescence /content/results/stability_transformer_20-11-14-15-01-44_557387 --metrics mse mae spearmanr "
      ],
      "execution_count": null,
      "outputs": []
    },
    {
      "cell_type": "code",
      "metadata": {
        "id": "wxmW4XFmSqhO"
      },
      "source": [
        "!tape-train lstm stability --batch_size 150  --learning_rate 0.0005  --num_train_epochs 30 --warmup_steps 2 --gradient_accumulation_steps 50 \n",
        "!tape-train lstm secondary_structure --batch_size 150  --learning_rate 0.0005  --num_train_epochs 30 --warmup_steps 2 --gradient_accumulation_steps 50 \n",
        "!tape-train lstm contact_prediction --batch_size 150  --learning_rate 0.0005  --num_train_epochs 30 --warmup_steps 2 --gradient_accumulation_steps 50 \n",
        "!tape-train lstm remote_homology --batch_size 150  --learning_rate 0.0005  --num_train_epochs 30 --warmup_steps 2 --gradient_accumulation_steps 50 \n",
        "!tape-train lstm fluorescence --batch_size 150  --learning_rate 0.0005  --num_train_epochs 30 --warmup_steps 2 --gradient_accumulation_steps 50 "
      ],
      "execution_count": null,
      "outputs": []
    },
    {
      "cell_type": "code",
      "metadata": {
        "id": "p112j2PsSulg"
      },
      "source": [
        "!tape-eval lstm stability /content/results/stability_lstm_20-11-14-15-28-34_699909 --metrics mse mae spearmanr\n",
        "!tape-eval lstm contact_prediction /content/results/stability_transformer_20-11-14-15-01-44_557387 --metrics accuracy\n",
        "!tape-eval lstm fluorescence /content/results/stability_transformer_20-11-14-15-01-44_557387 --metrics mse mae spearmanr "
      ],
      "execution_count": null,
      "outputs": []
    },
    {
      "cell_type": "code",
      "metadata": {
        "id": "yFI__0pRSqqM"
      },
      "source": [
        "!tape-train onehot stability --batch_size 150  --learning_rate 0.0005  --num_train_epochs 10 --warmup_steps 2 --gradient_accumulation_steps 50 \n",
        "!tape-train onehot secondary_structure --batch_size 150  --learning_rate 0.0005  --num_train_epochs 30 --warmup_steps 2 --gradient_accumulation_steps 50 \n",
        "!tape-train onehot contact_prediction --batch_size 150  --learning_rate 0.0005  --num_train_epochs 30 --warmup_steps 2 --gradient_accumulation_steps 50 \n",
        "!tape-train onehot remote_homology --batch_size 150  --learning_rate 0.0005  --num_train_epochs 30 --warmup_steps 2 --gradient_accumulation_steps 50 \n",
        "!tape-train onehot fluorescence --batch_size 150  --learning_rate 0.0005  --num_train_epochs 30 --warmup_steps 2 --gradient_accumulation_steps 50 "
      ],
      "execution_count": null,
      "outputs": []
    },
    {
      "cell_type": "code",
      "metadata": {
        "id": "_pYIEfyHSq1e"
      },
      "source": [
        "!tape-eval onehot stability /content/results/stability_onehot_20-11-14-15-56-50_643526 --metrics mse mae spearmanr\n",
        "!tape-eval onehot contact_prediction /content/results/stability_transformer_20-11-14-15-01-44_557387 --metrics accuracy\n",
        "!tape-eval onehot fluorescence /content/results/stability_transformer_20-11-14-15-01-44_557387 --metrics mse mae spearmanr"
      ],
      "execution_count": null,
      "outputs": []
    }
  ]
}