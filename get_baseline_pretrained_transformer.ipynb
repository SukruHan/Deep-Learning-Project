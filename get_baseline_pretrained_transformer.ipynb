{
  "nbformat": 4,
  "nbformat_minor": 0,
  "metadata": {
    "colab": {
      "name": "get_baseline_pretrained_transformer.ipynb",
      "provenance": [],
      "collapsed_sections": []
    },
    "kernelspec": {
      "name": "python3",
      "display_name": "Python 3"
    },
    "accelerator": "GPU"
  },
  "cells": [
    {
      "cell_type": "code",
      "metadata": {
        "id": "NuAdol1Acd6A"
      },
      "source": [
        "# install tape \n",
        "!pip install tape_proteins"
      ],
      "execution_count": null,
      "outputs": []
    },
    {
      "cell_type": "code",
      "metadata": {
        "id": "3qgGoCG8clGj"
      },
      "source": [
        "!mkdir ./data\n",
        "!wget http://s3.amazonaws.com/proteindata/data_pytorch/fluorescence.tar.gz\n",
        "!tar -xzf fluorescence.tar.gz -C ./data\n",
        "!rm fluorescence.tar.gz\n",
        "!wget http://s3.amazonaws.com/proteindata/data_pytorch/proteinnet.tar.gz\n",
        "!tar -xzf proteinnet.tar.gz -C ./data\n",
        "!rm proteinnet.tar.gz\n",
        "!wget http://s3.amazonaws.com/proteindata/data_pytorch/remote_homology.tar.gz\n",
        "!tar -xzf remote_homology.tar.gz -C ./data\n",
        "!rm remote_homology.tar.gz\n",
        "!wget http://s3.amazonaws.com/proteindata/data_pytorch/secondary_structure.tar.gz\n",
        "!tar -xzf secondary_structure.tar.gz -C ./data\n",
        "!rm secondary_structure.tar.gz\n",
        "!wget http://s3.amazonaws.com/proteindata/data_pytorch/stability.tar.gz\n",
        "!tar -xzf stability.tar.gz -C ./data\n",
        "!rm stability.tar.gz"
      ],
      "execution_count": null,
      "outputs": []
    },
    {
      "cell_type": "code",
      "metadata": {
        "id": "NR3SWU_uclI7"
      },
      "source": [
        "!tape-train transformer contact_prediction --model_config_file config.json --from_pretrained /content/results/pretrained_transformer --batch_size 150 --learning_rate 5e-4 --num_train_epochs 10 --warmup_steps 2 --gradient_accumulation_steps 50 --seed 1"
      ],
      "execution_count": null,
      "outputs": []
    },
    {
      "cell_type": "code",
      "metadata": {
        "id": "nLJBAn-qfDjW"
      },
      "source": [
        "!tape-eval transformer contact_prediction /content/results/contact_prediction_transformer_20-11-16-15-36-39_069321 --metrics accuracy "
      ],
      "execution_count": null,
      "outputs": []
    },
    {
      "cell_type": "code",
      "metadata": {
        "id": "mwqwkYKBclLT"
      },
      "source": [
        "!tape-train transformer fluorescence --model_config_file /content/results/baseline_fluorescence/config.json --from_pretrained /content/results/pretrained_transformer --batch_size 150 --learning_rate 5e-4 --num_train_epochs 10 --warmup_steps 2 --gradient_accumulation_steps 50 --seed 1"
      ],
      "execution_count": null,
      "outputs": []
    },
    {
      "cell_type": "code",
      "metadata": {
        "id": "YRHQSKIyfD5T"
      },
      "source": [
        "!tape-eval transformer fluorescence /content/results/fluorescence_transformer_20-11-23-14-34-56_238060 --metrics mse mae spearmanr  "
      ],
      "execution_count": null,
      "outputs": []
    },
    {
      "cell_type": "code",
      "metadata": {
        "id": "-faygRsAclNo"
      },
      "source": [
        "!tape-train transformer remote_homology --model_config_file /content/results/baseline_remote_homology/config.json --from_pretrained /content/results/pretrained_transformer --batch_size 150 --learning_rate 5e-4 --num_train_epochs 10 --warmup_steps 2 --gradient_accumulation_steps 50 --seed 1"
      ],
      "execution_count": null,
      "outputs": []
    },
    {
      "cell_type": "code",
      "metadata": {
        "id": "n9xC0m3CclQT"
      },
      "source": [
        "!tape-train transformer secondary_structure --model_config_file /content/results/baseline_secondary_structure/config.json --from_pretrained /content/results/pretrained_transformer --batch_size 150 --learning_rate 5e-4 --num_train_epochs 10 --warmup_steps 2 --gradient_accumulation_steps 50 --seed 1"
      ],
      "execution_count": null,
      "outputs": []
    },
    {
      "cell_type": "code",
      "metadata": {
        "id": "PAsP4o9HclSs"
      },
      "source": [
        "!tape-train transformer stability --model_config_file /content/results/baseline_stability/config.json --from_pretrained /content/results/pretrained_transformer --batch_size 150 --learning_rate 5e-4 --num_train_epochs 10 --warmup_steps 2 --gradient_accumulation_steps 50 --seed 1"
      ],
      "execution_count": null,
      "outputs": []
    },
    {
      "cell_type": "code",
      "metadata": {
        "id": "SL4bl_DFfFNl"
      },
      "source": [
        "!tape-eval transformer stability /content/results/stability_transformer_20-11-23-15-40-49_603263 --metrics mse mae spearmanr  "
      ],
      "execution_count": null,
      "outputs": []
    }
  ]
}