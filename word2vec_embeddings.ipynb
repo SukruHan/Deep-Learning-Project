{
 "cells": [
  {
   "cell_type": "code",
   "execution_count": 1,
   "metadata": {},
   "outputs": [],
   "source": [
    "from tape import datasets\n",
    "from tape import TAPETokenizer\n",
    "import torch\n",
    "import numpy as np"
   ]
  },
  {
   "cell_type": "code",
   "execution_count": 2,
   "metadata": {},
   "outputs": [],
   "source": [
    "with open('training_data_new_fasta.npy', 'rb') as f:\n",
    "    training_data = np.load(f)"
   ]
  },
  {
   "cell_type": "code",
   "execution_count": 3,
   "metadata": {
    "scrolled": true
   },
   "outputs": [
    {
     "name": "stdout",
     "output_type": "stream",
     "text": [
      "674550\n",
      "(674550, 2)\n",
      "[[ 2. 16.]\n",
      " [ 2. 23.]\n",
      " [ 2. 23.]\n",
      " [ 2. 19.]\n",
      " [ 2. 17.]\n",
      " [ 2. 17.]\n",
      " [ 2. 19.]\n",
      " [ 2. 17.]\n",
      " [ 2.  8.]\n",
      " [ 2. 28.]\n",
      " [16.  2.]\n",
      " [16. 23.]\n",
      " [16. 23.]\n",
      " [16. 19.]\n",
      " [16. 17.]\n",
      " [16. 17.]\n",
      " [16. 19.]\n",
      " [16. 17.]\n",
      " [16.  8.]\n",
      " [16. 28.]\n",
      " [16. 13.]]\n"
     ]
    }
   ],
   "source": [
    "print(len(training_data))\n",
    "print(training_data.shape)\n",
    "print(training_data[0:21])"
   ]
  },
  {
   "cell_type": "code",
   "execution_count": 4,
   "metadata": {},
   "outputs": [
    {
     "name": "stdout",
     "output_type": "stream",
     "text": [
      "onehot_label_x\n",
      "[[0. 0. 1. ... 0. 0. 0.]\n",
      " [0. 0. 1. ... 0. 0. 0.]\n",
      " [0. 0. 1. ... 0. 0. 0.]\n",
      " ...\n",
      " [0. 0. 0. ... 0. 0. 0.]\n",
      " [0. 0. 0. ... 0. 0. 0.]\n",
      " [0. 0. 0. ... 0. 0. 0.]]\n",
      "onehot_label_y\n",
      "[[0. 0. 0. ... 0. 0. 0.]\n",
      " [0. 0. 0. ... 0. 0. 0.]\n",
      " [0. 0. 0. ... 0. 0. 0.]\n",
      " ...\n",
      " [0. 0. 0. ... 0. 0. 0.]\n",
      " [0. 0. 0. ... 0. 0. 0.]\n",
      " [0. 0. 0. ... 0. 0. 0.]]\n"
     ]
    }
   ],
   "source": [
    "from sklearn.preprocessing import OneHotEncoder\n",
    "\n",
    "enc = OneHotEncoder()\n",
    "enc.fit(np.array(range(30)).reshape(-1,1))\n",
    "onehot_label_x = enc.transform(training_data[:,0].reshape(-1,1)).toarray()\n",
    "\n",
    "print(\"onehot_label_x\")\n",
    "print(onehot_label_x)\n",
    "\n",
    "enc = OneHotEncoder()\n",
    "enc.fit(np.array(range(30)).reshape(-1,1))\n",
    "onehot_label_y = enc.transform(training_data[:,1].reshape(-1,1)).toarray()\n",
    "\n",
    "print(\"onehot_label_y\")\n",
    "print(onehot_label_y)"
   ]
  },
  {
   "cell_type": "code",
   "execution_count": 5,
   "metadata": {},
   "outputs": [
    {
     "data": {
      "text/plain": [
       "(100000, 30)"
      ]
     },
     "execution_count": 5,
     "metadata": {},
     "output_type": "execute_result"
    }
   ],
   "source": [
    "onehot_label_y[0:100000].shape"
   ]
  },
  {
   "cell_type": "code",
   "execution_count": 6,
   "metadata": {},
   "outputs": [
    {
     "name": "stdout",
     "output_type": "stream",
     "text": [
      "WEMB(\n",
      "  (softmax): Softmax(dim=1)\n",
      "  (l1): Linear(in_features=30, out_features=2, bias=False)\n",
      "  (l2): Linear(in_features=2, out_features=30, bias=False)\n",
      ")\n",
      "==========================================================================================\n",
      "Layer (type:depth-idx)                   Output Shape              Param #\n",
      "==========================================================================================\n",
      "├─Linear: 1-1                            [-1, 2]                   60\n",
      "├─Linear: 1-2                            [-1, 30]                  60\n",
      "├─Softmax: 1-3                           [-1, 30]                  --\n",
      "==========================================================================================\n",
      "Total params: 120\n",
      "Trainable params: 120\n",
      "Non-trainable params: 0\n",
      "Total mult-adds (M): 0.00\n",
      "==========================================================================================\n",
      "Input size (MB): 0.00\n",
      "Forward/backward pass size (MB): 0.00\n",
      "Params size (MB): 0.00\n",
      "Estimated Total Size (MB): 0.00\n",
      "==========================================================================================\n"
     ]
    },
    {
     "data": {
      "text/plain": [
       "==========================================================================================\n",
       "Layer (type:depth-idx)                   Output Shape              Param #\n",
       "==========================================================================================\n",
       "├─Linear: 1-1                            [-1, 2]                   60\n",
       "├─Linear: 1-2                            [-1, 30]                  60\n",
       "├─Softmax: 1-3                           [-1, 30]                  --\n",
       "==========================================================================================\n",
       "Total params: 120\n",
       "Trainable params: 120\n",
       "Non-trainable params: 0\n",
       "Total mult-adds (M): 0.00\n",
       "==========================================================================================\n",
       "Input size (MB): 0.00\n",
       "Forward/backward pass size (MB): 0.00\n",
       "Params size (MB): 0.00\n",
       "Estimated Total Size (MB): 0.00\n",
       "=========================================================================================="
      ]
     },
     "execution_count": 6,
     "metadata": {},
     "output_type": "execute_result"
    }
   ],
   "source": [
    "input_size = 30\n",
    "hidden_size = 2\n",
    "learning_rate = 0.01\n",
    "num_epochs = 10\n",
    "\n",
    "from torch import nn\n",
    "from torchsummary  import summary\n",
    "\n",
    "class WEMB(nn.Module):\n",
    "    def __init__(self, input_size, hidden_size):\n",
    "        super(WEMB, self).__init__()\n",
    "        self.input_size = input_size\n",
    "        self.hidden_size = hidden_size\n",
    "        self.softmax = nn.Softmax(dim=1)\n",
    "\n",
    "        self.l1 = nn.Linear(self.input_size, self.hidden_size, bias=False)\n",
    "        self.l2 = nn.Linear(self.hidden_size, self.input_size, bias=False)\n",
    "\n",
    "    def forward(self, x):\n",
    "        out_bn = self.l1(x) # bn - bottle_neck\n",
    "        out = self.l2(out_bn)\n",
    "        out = self.softmax(out)\n",
    "        return out, out_bn\n",
    "\n",
    "device = torch.device('cuda' if torch.cuda.is_available() else 'cpu')\n",
    "\n",
    "model = WEMB(input_size, hidden_size).to(device)\n",
    "model.train(True)\n",
    "print(model)\n",
    "\n",
    "# Loss and optimizer\n",
    "criterion = nn.BCELoss()\n",
    "optimizer = torch.optim.SGD(model.parameters(), lr=learning_rate, \\\n",
    "                            momentum=0, weight_decay=0, nesterov=False)\n",
    "summary(model, torch.ones((1,30)))"
   ]
  },
  {
   "cell_type": "code",
   "execution_count": 7,
   "metadata": {},
   "outputs": [
    {
     "name": "stdout",
     "output_type": "stream",
     "text": [
      "Epoch [1/10], Loss: 0.1478\n",
      "Epoch [2/10], Loss: 0.1406\n",
      "Epoch [3/10], Loss: 0.1203\n",
      "Epoch [4/10], Loss: 0.1138\n",
      "Epoch [5/10], Loss: 0.1130\n",
      "Epoch [6/10], Loss: 0.1126\n",
      "Epoch [7/10], Loss: 0.1122\n",
      "Epoch [8/10], Loss: 0.1119\n",
      "Epoch [9/10], Loss: 0.1117\n",
      "Epoch [10/10], Loss: 0.1115\n"
     ]
    },
    {
     "data": {
      "image/png": "[encoded data removed]",
      "text/plain": [
       "<Figure size 432x288 with 1 Axes>"
      ]
     },
     "metadata": {
      "needs_background": "light"
     },
     "output_type": "display_data"
    }
   ],
   "source": [
    "import matplotlib.pyplot as plt\n",
    "%matplotlib inline\n",
    "\n",
    "loss_val = []\n",
    "\n",
    "onehot_label_x = torch.from_numpy(onehot_label_x[0:100000]).to(device)\n",
    "onehot_label_y = torch.from_numpy(onehot_label_y[0:100000]).to(device)\n",
    "\n",
    "for epoch in range(num_epochs):\n",
    "    for i in range(onehot_label_y.shape[0]):\n",
    "        inputs = onehot_label_x[i].float()\n",
    "        labels = onehot_label_y[i].float()\n",
    "        inputs = inputs.unsqueeze(0)\n",
    "        labels = labels.unsqueeze(0)\n",
    "\n",
    "        # Forward pass\n",
    "        output, wemb = model(inputs)\n",
    "        loss = criterion(output, labels)\n",
    "\n",
    "        # Backward and optimize\n",
    "        optimizer.zero_grad()\n",
    "        loss.backward()\n",
    "        optimizer.step()\n",
    "    loss_val.append(loss.item())\n",
    "\n",
    "    if (epoch+1) % 1 == 0:\n",
    "        print (f'Epoch [{epoch+1}/{num_epochs}], Loss: {loss.item():.4f}')\n",
    "\n",
    "plt.plot(loss_val)\n",
    "plt.show()"
   ]
  },
  {
   "cell_type": "code",
   "execution_count": 8,
   "metadata": {},
   "outputs": [
    {
     "name": "stdout",
     "output_type": "stream",
     "text": [
      "Output\n",
      "torch.Size([1, 30])\n",
      "tensor([[0.0014, 0.0014, 0.0053, 0.0058, 0.0014, 0.1067, 0.0009, 0.0184, 0.0529,\n",
      "         0.0777, 0.0333, 0.0878, 0.0151, 0.0389, 0.0901, 0.0862, 0.0280, 0.0541,\n",
      "         0.0014, 0.0171, 0.0482, 0.0400, 0.0441, 0.0272, 0.0009, 0.0394, 0.0167,\n",
      "         0.0010, 0.0576, 0.0012]], grad_fn=<SoftmaxBackward>)\n",
      "Wemb\n",
      "torch.Size([1, 2])\n",
      "tensor([[1.1213, 0.8005]], grad_fn=<MmBackward>)\n"
     ]
    }
   ],
   "source": [
    "print(\"Output\")\n",
    "print(output.shape)\n",
    "print(output)\n",
    "print(\"Wemb\")\n",
    "print(wemb.shape)\n",
    "print(wemb)"
   ]
  },
  {
   "cell_type": "code",
   "execution_count": 9,
   "metadata": {},
   "outputs": [
    {
     "name": "stdout",
     "output_type": "stream",
     "text": [
      "<bound method Kernel.raw_input of <ipykernel.ipkernel.IPythonKernel object at 0x00000260E85CC3A0>> tensor([0.5515, 0.2242, 0.2242]) tensor([1., 0., 0.])\n",
      "Loss tensor(0.3676)\n"
     ]
    },
    {
     "name": "stderr",
     "output_type": "stream",
     "text": [
      "<ipython-input-9-ba3d1cc5fecb>:5: UserWarning: Implicit dimension choice for softmax has been deprecated. Change the call to include dim=X as an argument.\n",
      "  outputOne = loss(m(input_), target)\n",
      "<ipython-input-9-ba3d1cc5fecb>:6: UserWarning: Implicit dimension choice for softmax has been deprecated. Change the call to include dim=X as an argument.\n",
      "  print(input, m(input_), target)\n"
     ]
    }
   ],
   "source": [
    "m = nn.Softmax()\n",
    "loss = nn.BCELoss()\n",
    "input_ = torch.tensor([0.9,0.0,0.0])\n",
    "target = torch.tensor([1.0,0.0,0.0])\n",
    "outputOne = loss(m(input_), target)\n",
    "print(input, m(input_), target) \n",
    "print(\"Loss\",outputOne)"
   ]
  },
  {
   "cell_type": "code",
   "execution_count": 10,
   "metadata": {},
   "outputs": [
    {
     "name": "stdout",
     "output_type": "stream",
     "text": [
      "<bound method Kernel.raw_input of <ipykernel.ipkernel.IPythonKernel object at 0x00000260E85CC3A0>> tensor([0.7109, 0.5000, 0.5000]) tensor([1., 0., 0.])\n",
      "Loss tensor(0.5758)\n"
     ]
    }
   ],
   "source": [
    "m = nn.Sigmoid()\n",
    "loss = nn.BCELoss()\n",
    "input_ = torch.tensor([0.9,0.0,0.0])\n",
    "target = torch.tensor([1.0,0.0,0.0])\n",
    "outputTwo = loss(m(input_), target)\n",
    "print(input, m(input_), target) \n",
    "print(\"Loss\",outputTwo)"
   ]
  },
  {
   "cell_type": "code",
   "execution_count": 11,
   "metadata": {
    "scrolled": true
   },
   "outputs": [],
   "source": [
    "from typing import List\n",
    "import logging\n",
    "from collections import OrderedDict\n",
    "import numpy as np\n",
    "IUPAC_VOCAB = OrderedDict([\n",
    "    (\"<pad>\", 0),\n",
    "    (\"<mask>\", 1),\n",
    "    (\"<cls>\", 2),\n",
    "    (\"<sep>\", 3),\n",
    "    (\"<unk>\", 4),\n",
    "    (\"A\", 5),\n",
    "    (\"B\", 6),\n",
    "    (\"C\", 7),\n",
    "    (\"D\", 8),\n",
    "    (\"E\", 9),\n",
    "    (\"F\", 10),\n",
    "    (\"G\", 11),\n",
    "    (\"H\", 12),\n",
    "    (\"I\", 13),\n",
    "    (\"K\", 14),\n",
    "    (\"L\", 15),\n",
    "    (\"M\", 16),\n",
    "    (\"N\", 17),\n",
    "    (\"O\", 18),\n",
    "    (\"P\", 19),\n",
    "    (\"Q\", 20),\n",
    "    (\"R\", 21),\n",
    "    (\"S\", 22),\n",
    "    (\"T\", 23),\n",
    "    (\"U\", 24),\n",
    "    (\"V\", 25),\n",
    "    (\"W\", 26),\n",
    "    (\"X\", 27),\n",
    "    (\"Y\", 28),\n",
    "    (\"Z\", 29)])"
   ]
  },
  {
   "cell_type": "code",
   "execution_count": 12,
   "metadata": {},
   "outputs": [
    {
     "name": "stdout",
     "output_type": "stream",
     "text": [
      "30\n"
     ]
    }
   ],
   "source": [
    "#test_arr = np.array([5., 8., 6., 7., 9., 10., 11., 13., 14., 15., 16., 17., 18., 19., 20., 22.])\n",
    "test_arr = np.arange(0, 30, 1.0)\n",
    "tmp = []\n",
    "for i in test_arr:\n",
    "    tmp.append(list(IUPAC_VOCAB.keys())[int(i)])\n",
    "test = enc.transform(test_arr.reshape(-1,1)).toarray() ### CAREFULLLL !!!\n",
    "\n",
    "outputThree = []\n",
    "for i in range(test.shape[0]):\n",
    "    _, wemb2 = model(torch.from_numpy(test[i]).unsqueeze(0).float())\n",
    "    wemb2 = wemb2[0].detach().cpu().numpy()\n",
    "    outputThree.append(wemb2)\n",
    "print(len(outputThree))"
   ]
  },
  {
   "cell_type": "code",
   "execution_count": 13,
   "metadata": {},
   "outputs": [
    {
     "name": "stdout",
     "output_type": "stream",
     "text": [
      "Word - <pad> - It's Word Embedding -0.0423 & -0.0942\n",
      "Word - <mask> - It's Word Embedding -0.0498 & 0.125\n",
      "Word - <cls> - It's Word Embedding 0.518 & 0.504\n",
      "Word - <sep> - It's Word Embedding 0.641 & 0.547\n",
      "Word - <unk> - It's Word Embedding -0.152 & 0.165\n",
      "Word - A - It's Word Embedding 1.12 & 0.925\n",
      "Word - B - It's Word Embedding 0.0302 & 0.147\n",
      "Word - C - It's Word Embedding 0.89 & 0.791\n",
      "Word - D - It's Word Embedding 1.01 & 0.86\n",
      "Word - E - It's Word Embedding 1.08 & 0.929\n",
      "Word - F - It's Word Embedding 0.97 & 0.931\n",
      "Word - G - It's Word Embedding 1.12 & 0.801\n",
      "Word - H - It's Word Embedding 0.931 & 0.736\n",
      "Word - I - It's Word Embedding 1.01 & 0.847\n",
      "Word - K - It's Word Embedding 1.07 & 0.866\n",
      "Word - L - It's Word Embedding 1.04 & 0.914\n",
      "Word - M - It's Word Embedding 1.08 & 0.67\n",
      "Word - N - It's Word Embedding 1.02 & 0.855\n",
      "Word - O - It's Word Embedding 0.0147 & -0.122\n",
      "Word - P - It's Word Embedding 0.966 & 0.684\n",
      "Word - Q - It's Word Embedding 1.11 & 0.901\n",
      "Word - R - It's Word Embedding 1.15 & 0.746\n",
      "Word - S - It's Word Embedding 1.02 & 0.81\n",
      "Word - T - It's Word Embedding 1.06 & 0.721\n",
      "Word - U - It's Word Embedding 0.0964 & 0.154\n",
      "Word - V - It's Word Embedding 0.994 & 0.888\n",
      "Word - W - It's Word Embedding 0.994 & 0.754\n",
      "Word - X - It's Word Embedding -0.111 & -0.112\n",
      "Word - Y - It's Word Embedding 1.06 & 0.908\n",
      "Word - Z - It's Word Embedding -0.147 & -0.128\n"
     ]
    }
   ],
   "source": [
    "for i in range(0, len(tmp)):\n",
    "    print(\"Word - {} - It's Word Embedding {:.3} & {:.3}\".format(tmp[i], outputThree[i][0], outputThree[i][1]))"
   ]
  },
  {
   "cell_type": "code",
   "execution_count": 14,
   "metadata": {},
   "outputs": [
    {
     "name": "stdout",
     "output_type": "stream",
     "text": [
      "<pad>  ,  tensor(0.0014, grad_fn=<SelectBackward>)\n",
      "<mask>  ,  tensor(0.0014, grad_fn=<SelectBackward>)\n",
      "<cls>  ,  tensor(0.0053, grad_fn=<SelectBackward>)\n",
      "<sep>  ,  tensor(0.0058, grad_fn=<SelectBackward>)\n",
      "<unk>  ,  tensor(0.0014, grad_fn=<SelectBackward>)\n",
      "A  ,  tensor(0.1067, grad_fn=<SelectBackward>)\n",
      "B  ,  tensor(0.0009, grad_fn=<SelectBackward>)\n",
      "C  ,  tensor(0.0184, grad_fn=<SelectBackward>)\n",
      "D  ,  tensor(0.0529, grad_fn=<SelectBackward>)\n",
      "E  ,  tensor(0.0777, grad_fn=<SelectBackward>)\n",
      "F  ,  tensor(0.0333, grad_fn=<SelectBackward>)\n",
      "G  ,  tensor(0.0878, grad_fn=<SelectBackward>)\n",
      "H  ,  tensor(0.0151, grad_fn=<SelectBackward>)\n",
      "I  ,  tensor(0.0389, grad_fn=<SelectBackward>)\n",
      "K  ,  tensor(0.0901, grad_fn=<SelectBackward>)\n",
      "L  ,  tensor(0.0862, grad_fn=<SelectBackward>)\n",
      "M  ,  tensor(0.0280, grad_fn=<SelectBackward>)\n",
      "N  ,  tensor(0.0541, grad_fn=<SelectBackward>)\n",
      "O  ,  tensor(0.0014, grad_fn=<SelectBackward>)\n",
      "P  ,  tensor(0.0171, grad_fn=<SelectBackward>)\n",
      "Q  ,  tensor(0.0482, grad_fn=<SelectBackward>)\n",
      "R  ,  tensor(0.0400, grad_fn=<SelectBackward>)\n",
      "S  ,  tensor(0.0441, grad_fn=<SelectBackward>)\n",
      "T  ,  tensor(0.0272, grad_fn=<SelectBackward>)\n",
      "U  ,  tensor(0.0009, grad_fn=<SelectBackward>)\n",
      "V  ,  tensor(0.0394, grad_fn=<SelectBackward>)\n",
      "W  ,  tensor(0.0167, grad_fn=<SelectBackward>)\n",
      "X  ,  tensor(0.0010, grad_fn=<SelectBackward>)\n",
      "Y  ,  tensor(0.0576, grad_fn=<SelectBackward>)\n",
      "Z  ,  tensor(0.0012, grad_fn=<SelectBackward>)\n"
     ]
    }
   ],
   "source": [
    "for i in output:\n",
    "    for j,k in zip(i,list(IUPAC_VOCAB.keys())):\n",
    "        print(k, \" , \", j)"
   ]
  },
  {
   "cell_type": "code",
   "execution_count": 15,
   "metadata": {},
   "outputs": [
    {
     "name": "stdout",
     "output_type": "stream",
     "text": [
      "[-0.042347312, -0.049829304, 0.5176226, 0.6408354, -0.15217593, 1.1158477, 0.030205846, 0.8903035, 1.0136782, 1.0813339, 0.969946, 1.1212363, 0.93145984, 1.0057331, 1.0745823, 1.0420209, 1.0819818, 1.0247437, 0.014737353, 0.9661196, 1.114836, 1.1500868, 1.0204847, 1.0580537, 0.09641683, 0.99355567, 0.9938069, -0.11092438, 1.0649111, -0.14730133] [-0.09418051, 0.12479633, 0.5035933, 0.5466242, 0.16525489, 0.9248026, 0.14722532, 0.79062325, 0.8601179, 0.9288538, 0.9309644, 0.80083823, 0.73557395, 0.8474996, 0.86563027, 0.91366714, 0.6702627, 0.8547888, -0.12192756, 0.68415296, 0.9008692, 0.7457481, 0.81023544, 0.72084683, 0.15444306, 0.8883136, 0.7544708, -0.11199169, 0.907804, -0.12849577]\n"
     ]
    },
    {
     "data": {
      "text/plain": [
       "<Figure size 432x288 with 0 Axes>"
      ]
     },
     "metadata": {},
     "output_type": "display_data"
    },
    {
     "data": {
      "image/png": "[encoded data removed]",
      "text/plain": [
       "<Figure size 1296x864 with 1 Axes>"
      ]
     },
     "metadata": {
      "needs_background": "light"
     },
     "output_type": "display_data"
    }
   ],
   "source": [
    "import random\n",
    "xs = []\n",
    "ys = []\n",
    "for i in range(len(outputThree)):\n",
    "    xs.append(outputThree[i][0])\n",
    "    ys.append(outputThree[i][1])\n",
    "print(xs, ys)\n",
    "\n",
    "docs = list(IUPAC_VOCAB.keys())\n",
    "\n",
    "plt.clf()\n",
    "plt.figure(figsize=(18,12))\n",
    "plt.scatter(xs,ys)\n",
    "label = docs\n",
    "\n",
    "for i,(x,y) in enumerate(zip(xs,ys)):\n",
    "    plt.annotate(label[i], (x,y), textcoords=\"offset points\", xytext=(0,10), fontsize=20, ha = random.choice(['left', 'right']))\n",
    "    plt.title(\"Trained Model\")\n",
    "plt.show()"
   ]
  },
  {
   "cell_type": "code",
   "execution_count": 30,
   "metadata": {
    "scrolled": false
   },
   "outputs": [
    {
     "data": {
      "text/html": [
       "\n",
       "        <iframe\n",
       "            width=\"800\"\n",
       "            height=\"600\"\n",
       "            src=\"temp-plot.html\"\n",
       "            frameborder=\"0\"\n",
       "            allowfullscreen\n",
       "        ></iframe>\n",
       "        "
      ],
      "text/plain": [
       "<IPython.lib.display.IFrame at 0x2609c57a160>"
      ]
     },
     "execution_count": 30,
     "metadata": {},
     "output_type": "execute_result"
    }
   ],
   "source": [
    "import plotly\n",
    "import plotly.express as px\n",
    "from plotly.offline import plot\n",
    "from IPython.display import display, HTML, IFrame\n",
    "\n",
    "import plotly.express as px\n",
    "fig = px.scatter(x=xs, y=ys, text=docs, size_max=100)\n",
    "fig.update_traces(textposition= random.choice(['top center', 'bottom center','bottom left']))\n",
    "fig.update_layout(height=600,title_text='Aminoacid Embeddings', width=800)\n",
    "#fig.show()\n",
    "plot(fig)\n",
    "IFrame(\"temp-plot.html\", 800, 600)"
   ]
  },
  {
   "cell_type": "code",
   "execution_count": null,
   "metadata": {},
   "outputs": [],
   "source": []
  }
 ],
 "metadata": {
  "kernelspec": {
   "display_name": "deep_learning",
   "language": "python",
   "name": "deep_learning"
  },
  "language_info": {
   "codemirror_mode": {
    "name": "ipython",
    "version": 3
   },
   "file_extension": ".py",
   "mimetype": "text/x-python",
   "name": "python",
   "nbconvert_exporter": "python",
   "pygments_lexer": "ipython3",
   "version": "3.8.6"
  }
 },
 "nbformat": 4,
 "nbformat_minor": 4
}
